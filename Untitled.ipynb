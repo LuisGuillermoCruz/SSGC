{
 "cells": [
  {
   "cell_type": "code",
   "execution_count": null,
   "id": "d47ce201",
   "metadata": {},
   "outputs": [
    {
     "name": "stdout",
     "output_type": "stream",
     "text": [
      "Requirement already satisfied: flask_cors in c:\\users\\luisg\\anaconda3\\lib\\site-packages (3.0.10)\n",
      "Requirement already satisfied: Six in c:\\users\\luisg\\anaconda3\\lib\\site-packages (from flask_cors) (1.16.0)\n",
      "Requirement already satisfied: Flask>=0.9 in c:\\users\\luisg\\anaconda3\\lib\\site-packages (from flask_cors) (1.1.2)\n",
      "Requirement already satisfied: itsdangerous>=0.24 in c:\\users\\luisg\\anaconda3\\lib\\site-packages (from Flask>=0.9->flask_cors) (2.0.1)\n",
      "Requirement already satisfied: Jinja2>=2.10.1 in c:\\users\\luisg\\anaconda3\\lib\\site-packages (from Flask>=0.9->flask_cors) (2.11.3)\n",
      "Requirement already satisfied: click>=5.1 in c:\\users\\luisg\\anaconda3\\lib\\site-packages (from Flask>=0.9->flask_cors) (8.0.4)\n",
      "Requirement already satisfied: Werkzeug>=0.15 in c:\\users\\luisg\\anaconda3\\lib\\site-packages (from Flask>=0.9->flask_cors) (2.0.3)\n",
      "Requirement already satisfied: colorama in c:\\users\\luisg\\anaconda3\\lib\\site-packages (from click>=5.1->Flask>=0.9->flask_cors) (0.4.4)\n",
      "Requirement already satisfied: MarkupSafe>=0.23 in c:\\users\\luisg\\anaconda3\\lib\\site-packages (from Jinja2>=2.10.1->Flask>=0.9->flask_cors) (2.0.1)\n"
     ]
    }
   ],
   "source": [
    "!pip install \"flask_cors\"\n",
    "!pip install \"torch\""
   ]
  },
  {
   "cell_type": "code",
   "execution_count": null,
   "id": "08e74bb1",
   "metadata": {},
   "outputs": [],
   "source": [
    "from flask import Flask\n",
    "import flask\n",
    "from flask_cors import CORS\n",
    "import torch\n",
    "import torchvision\n",
    "\n",
    "app = Flask(__name__)# instanciamos la app\n",
    "CORS(app)\n",
    "\n",
    "#Definiendo rutas\n",
    "@app.route(\"/\")\n",
    "def hello_word():\n",
    "    return \"PAGINA PARA SERVICIO SOCIAL LUIS GUILLERMO CRUZ!\"\n",
    "\n",
    "@app.route(\"/predict\")\n",
    "def predict():\n",
    "    model = torch.hub.load('ultralytics/yolov5', 'yolov5s')\n",
    "        # Images\n",
    "    img = 'https://ultralytics.com/images/zidane.jpg'  # or file, Path, PIL, OpenCV, numpy, list\n",
    "\n",
    "    # Inference\n",
    "    results = model(img)\n",
    "\n",
    "    # Results\n",
    "    results.print()\n",
    "    return \"Predicciones\"\n",
    "\n",
    "#Ejecutando la aplicacion\n",
    "if __name__ == \"__main__\":\n",
    "    app.run()"
   ]
  },
  {
   "cell_type": "code",
   "execution_count": null,
   "id": "6492d913",
   "metadata": {},
   "outputs": [],
   "source": []
  }
 ],
 "metadata": {
  "kernelspec": {
   "display_name": "Python 3 (ipykernel)",
   "language": "python",
   "name": "python3"
  },
  "language_info": {
   "codemirror_mode": {
    "name": "ipython",
    "version": 3
   },
   "file_extension": ".py",
   "mimetype": "text/x-python",
   "name": "python",
   "nbconvert_exporter": "python",
   "pygments_lexer": "ipython3",
   "version": "3.9.12"
  }
 },
 "nbformat": 4,
 "nbformat_minor": 5
}
